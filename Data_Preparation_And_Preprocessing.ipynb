{
 "cells": [
  {
   "cell_type": "code",
   "execution_count": 8,
   "metadata": {},
   "outputs": [],
   "source": [
    "import numpy as np\n",
    "import pandas as pd\n",
    "import cv2\n",
    "import matplotlib.pyplot as plt\n",
    "from sklearn.utils import shuffle"
   ]
  },
  {
   "cell_type": "code",
   "execution_count": 9,
   "metadata": {},
   "outputs": [],
   "source": [
    "IMG_HEIGHT, IMG_WIDTH, IMG_CHANNELS = 76, 280, 3\n",
    "INPUT_IMG_SHAPE = (IMG_HEIGHT,IMG_WIDTH,IMG_CHANNELS)"
   ]
  },
  {
   "cell_type": "code",
   "execution_count": 10,
   "metadata": {},
   "outputs": [],
   "source": [
    "def preProcess_image(img):\n",
    "    ## Crop the part of image that is not required for prediction \n",
    "        # - (Removed the sky and the bonnet of the car)\n",
    "    belowSky = 50\n",
    "    CarBonnet = 141 \n",
    "    img = img[belowSky:CarBonnet]   \n",
    "    \n",
    "    ## Resize the image into INPUT_IMG_SHAPE\n",
    "    img = cv2.resize(img,(IMG_WIDTH,IMG_HEIGHT))\n",
    "    \n",
    "    return img"
   ]
  },
  {
   "cell_type": "code",
   "execution_count": 11,
   "metadata": {},
   "outputs": [],
   "source": [
    "def get_image(paths,angle):\n",
    "    '''Returns random chosen camera angle view after pre-processing it and the corresponding steering angle after\n",
    "       correction'''\n",
    "    # Randomly choosing between three camera angles available and doing the steering angle correction\n",
    "    ind = np.random.randint(0,3)\n",
    "    imgPath = paths[ind]\n",
    "    if ind == 1:    # Case when the left camera's image is selected\n",
    "        angle += 0.2  \n",
    "    elif ind == 2:  # Case when the right camera's image is selected\n",
    "        angle -= 0.2\n",
    "    \n",
    "    # Reading the image (By default, cv2 reads image in BGR format so converting it to RGB using cv2.cvtColor() )\n",
    "    img = cv2.imread(imgPath)\n",
    "    img = cv2.cvtColor(img,cv2.COLOR_BGR2RGB)\n",
    "    \n",
    "    img = preProcess_image(img)\n",
    "    \n",
    "    return img,angle"
   ]
  },
  {
   "cell_type": "code",
   "execution_count": 12,
   "metadata": {},
   "outputs": [],
   "source": [
    "def flip_image(img,angle):\n",
    "    num = np.random.choice(2)\n",
    "    if num == 0:\n",
    "        img = cv2.flip(img,1)\n",
    "        angle = -angle\n",
    "    return img, angle"
   ]
  },
  {
   "cell_type": "code",
   "execution_count": 13,
   "metadata": {},
   "outputs": [],
   "source": [
    "def load_data(PathToCSV):\n",
    "    ## Loads the data into the memory and preprocesses the data to make it suitable \n",
    "     # to be given as input to the Convolutional Neural Network (i.e. our model)\n",
    "    df = pd.read_csv(PathToCSV,names=['center', 'left','right','steering','throttle','brake','speed'])\n",
    "    X = df[['center','left','right']].values\n",
    "    Y = df['steering']\n",
    "    XData = np.empty([X.shape[0],IMG_HEIGHT,IMG_WIDTH,IMG_CHANNELS],dtype='uint8')\n",
    "    YData = np.empty([Y.shape[0]])\n",
    "    for ix in range(X.shape[0]):\n",
    "        img,angle = get_image(X[ix],Y[ix])\n",
    "        img,angle = flip_image(img,angle)\n",
    "        XData[ix] = img\n",
    "#         XData[X.shape[0]+ix] = flip_img\n",
    "        YData[ix] = angle\n",
    "#         YData[X.shape[0]+ix] = flip_angle\n",
    "    shuffle(XData,YData,random_state=0)\n",
    "    return XData,YData"
   ]
  }
 ],
 "metadata": {
  "kernelspec": {
   "display_name": "Python 3",
   "language": "python",
   "name": "python3"
  },
  "language_info": {
   "codemirror_mode": {
    "name": "ipython",
    "version": 3
   },
   "file_extension": ".py",
   "mimetype": "text/x-python",
   "name": "python",
   "nbconvert_exporter": "python",
   "pygments_lexer": "ipython3",
   "version": "3.6.5"
  }
 },
 "nbformat": 4,
 "nbformat_minor": 2
}
