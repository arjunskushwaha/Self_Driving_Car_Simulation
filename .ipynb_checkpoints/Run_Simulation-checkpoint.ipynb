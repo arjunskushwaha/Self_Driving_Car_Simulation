{
 "cells": [
  {
   "cell_type": "code",
   "execution_count": 9,
   "metadata": {},
   "outputs": [],
   "source": [
    "import base64\n",
    "from datetime import datetime\n",
    "import shutil\n",
    "import numpy as np\n",
    "import socketio \n",
    "import eventlet\n",
    "import eventlet.wsgi\n",
    "from PIL import Image\n",
    "from flask import Flask\n",
    "from io import BytesIO\n",
    "from keras.models import load_model\n",
    "import argparse\n",
    "from Data_Preparation_And_Preprocessing import preProcess_image"
   ]
  },
  {
   "cell_type": "code",
   "execution_count": 7,
   "metadata": {},
   "outputs": [
    {
     "data": {
      "text/plain": [
       "'For python script'"
      ]
     },
     "execution_count": 7,
     "metadata": {},
     "output_type": "execute_result"
    }
   ],
   "source": [
    "parser = argparse.ArgumentParser()\n",
    "parser.add_argument('--ip', type=str,\n",
    "                    help='Enter IP address for socket', default = '0.0.0.0')\n",
    "parser.add_argument('--min_speed', type=int,\n",
    "                    help='Enter Minimum Speed of Car', default = 10)\n",
    "parser.add_argument('--max_speed', type=int,\n",
    "                    help='Enter Maximum Speed of Car', default = 25)\n",
    "parser.add_argument('--path', type=str,\n",
    "                    help='Enter path to saved model file', default = './model.h5')\n",
    "\n",
    "args = parser.parse_args()\n",
    "ModelPath = args.path\n",
    "IP = args.ip\n",
    "MAX_SPEED = args.max_speed\n",
    "MIN_SPEED = args.min_speed\n",
    "speed_limit = MAX_SPEED"
   ]
  },
  {
   "cell_type": "code",
   "execution_count": null,
   "metadata": {},
   "outputs": [],
   "source": [
    "model = load_model(ModelPath)\n",
    "\n",
    "sio = socketio.Server()\n",
    "app = Flask(__name__)\n",
    "\n",
    "def send_control(steering_angle, throttle):\n",
    "    sio.emit(\n",
    "        \"steer\",\n",
    "        data={\n",
    "            'steering_angle': str(steering_angle),\n",
    "            'throttle': str(throttle)\n",
    "        },\n",
    "        skip_sid=True)\n",
    "\n",
    "@sio.on('connect')\n",
    "def connect(sid, environ):\n",
    "    print(\"connect \", sid)\n",
    "    send_control(0, 0)\n",
    "\n",
    "@sio.on('telemetry')\n",
    "def telemetry(sid, data):\n",
    "    if data:\n",
    "        steering_angle = float(data[\"steering_angle\"])\n",
    "        throttle = float(data[\"throttle\"])\n",
    "        speed = float(data[\"speed\"])\n",
    "        #print (steering_angle, throttle, speed)\n",
    "        \n",
    "        image = Image.open(BytesIO(base64.b64decode(data[\"image\"])))\n",
    "        \n",
    "        try:\n",
    "            image = np.asarray(image)       \n",
    "            image = preProcess_image(image) \n",
    "            image = image/255.0\n",
    "            image = np.array([image])       \n",
    "            \n",
    "            steering_angle = float(model.predict(image, batch_size=1))\n",
    "\n",
    "            global speed_limit\n",
    "            if speed > speed_limit:\n",
    "                speed_limit = MIN_SPEED  # slow down\n",
    "            else:\n",
    "                speed_limit = MAX_SPEED\n",
    "                \n",
    "            throttle = 1.0 - ( (steering_angle)**2 ) - ( (speed/speed_limit)**2 )\n",
    "            #throttle = 1.0\n",
    "            \n",
    "            print('{} {} {}'.format(steering_angle, throttle, speed))\n",
    "            send_control(steering_angle, throttle)\n",
    "            \n",
    "        except Exception as e:\n",
    "            print(e)\n",
    "        \n",
    "    else:\n",
    "        sio.emit('manual', data={}, skip_sid=True)\n",
    "    \n",
    "\n",
    "\n",
    "app = socketio.Middleware(sio, app)\n",
    "eventlet.wsgi.server(eventlet.listen((ip, 4567)), app)"
   ]
  }
 ],
 "metadata": {
  "kernelspec": {
   "display_name": "Python 3",
   "language": "python",
   "name": "python3"
  },
  "language_info": {
   "codemirror_mode": {
    "name": "ipython",
    "version": 3
   },
   "file_extension": ".py",
   "mimetype": "text/x-python",
   "name": "python",
   "nbconvert_exporter": "python",
   "pygments_lexer": "ipython3",
   "version": "3.6.5"
  }
 },
 "nbformat": 4,
 "nbformat_minor": 2
}
