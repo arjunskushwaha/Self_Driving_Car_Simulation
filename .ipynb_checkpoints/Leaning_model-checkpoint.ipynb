{
 "cells": [
  {
   "cell_type": "code",
   "execution_count": 1,
   "metadata": {},
   "outputs": [
    {
     "name": "stderr",
     "output_type": "stream",
     "text": [
      "Using TensorFlow backend.\n"
     ]
    }
   ],
   "source": [
    "import numpy as np\n",
    "from keras.layers import Convolution2D,Dropout,Flatten,Dense\n",
    "from keras.models import Sequential,save_model\n",
    "from keras.optimizers import Adam\n",
    "from keras.callbacks import ModelCheckpoint\n",
    "from sklearn.model_selection import train_test_split\n",
    "from Data_Preparation_And_Preprocessing import load_data,INPUT_IMG_SHAPE"
   ]
  },
  {
   "cell_type": "code",
   "execution_count": 2,
   "metadata": {},
   "outputs": [],
   "source": [
    "PathToCSV ='/media/arjun/DATA/coding_blocks/perceptron/MachineLearning/Exps/Behavioral_cloning/Data_track_1/driving_log.csv'\n",
    "XData,YData = load_data(PathToCSV)"
   ]
  },
  {
   "cell_type": "code",
   "execution_count": 3,
   "metadata": {},
   "outputs": [],
   "source": [
    "xtrain,xtest,ytrain,ytest = train_test_split(XData, YData, test_size = 0.2)\n",
    "\n",
    "##Normalizing data    \n",
    "xtrain = xtrain/255.0\n",
    "xtest = xtest/255.0"
   ]
  },
  {
   "cell_type": "code",
   "execution_count": 4,
   "metadata": {},
   "outputs": [
    {
     "name": "stdout",
     "output_type": "stream",
     "text": [
      "_________________________________________________________________\n",
      "Layer (type)                 Output Shape              Param #   \n",
      "=================================================================\n",
      "conv2d_1 (Conv2D)            (None, 37, 139, 24)       672       \n",
      "_________________________________________________________________\n",
      "conv2d_2 (Conv2D)            (None, 18, 69, 36)        7812      \n",
      "_________________________________________________________________\n",
      "conv2d_3 (Conv2D)            (None, 8, 34, 48)         15600     \n",
      "_________________________________________________________________\n",
      "conv2d_4 (Conv2D)            (None, 6, 32, 64)         27712     \n",
      "_________________________________________________________________\n",
      "conv2d_5 (Conv2D)            (None, 4, 30, 64)         36928     \n",
      "_________________________________________________________________\n",
      "dropout_1 (Dropout)          (None, 4, 30, 64)         0         \n",
      "_________________________________________________________________\n",
      "flatten_1 (Flatten)          (None, 7680)              0         \n",
      "_________________________________________________________________\n",
      "dense_1 (Dense)              (None, 100)               768100    \n",
      "_________________________________________________________________\n",
      "dense_2 (Dense)              (None, 50)                5050      \n",
      "_________________________________________________________________\n",
      "dense_3 (Dense)              (None, 10)                510       \n",
      "_________________________________________________________________\n",
      "dense_4 (Dense)              (None, 1)                 11        \n",
      "=================================================================\n",
      "Total params: 862,395\n",
      "Trainable params: 862,395\n",
      "Non-trainable params: 0\n",
      "_________________________________________________________________\n"
     ]
    }
   ],
   "source": [
    "model = Sequential()\n",
    "model.add(Convolution2D(24, activation='relu', kernel_size=(3, 3), strides=(2,2),input_shape=INPUT_IMG_SHAPE))\n",
    "model.add(Convolution2D(36, activation='relu', kernel_size=(3, 3), strides=(2,2)))\n",
    "model.add(Convolution2D(48, activation='relu', kernel_size=(3, 3), strides=(2,2)))\n",
    "model.add(Convolution2D(64, activation='relu', kernel_size=(3, 3)))\n",
    "model.add(Convolution2D(64, activation='relu', kernel_size=(3, 3)))\n",
    "model.add(Dropout(0.5))\n",
    "model.add(Flatten())\n",
    "model.add(Dense(100, activation='relu'))\n",
    "model.add(Dense(50, activation='relu'))\n",
    "model.add(Dense(10, activation='relu'))\n",
    "model.add(Dense(1))\n",
    "model.summary()"
   ]
  },
  {
   "cell_type": "code",
   "execution_count": 5,
   "metadata": {},
   "outputs": [],
   "source": [
    "checkpoint = ModelCheckpoint('model-{val_loss:.4f}.h5',\n",
    "                                 monitor='val_loss',\n",
    "                                 verbose=0,\n",
    "                                 save_best_only=True,\n",
    "                                 mode='auto')\n",
    "model.compile(loss='mean_squared_error', optimizer=Adam(lr=1.0e-4))"
   ]
  },
  {
   "cell_type": "code",
   "execution_count": 6,
   "metadata": {},
   "outputs": [
    {
     "name": "stdout",
     "output_type": "stream",
     "text": [
      "Train on 7748 samples, validate on 1938 samples\n",
      "Epoch 1/30\n",
      "7748/7748 [==============================] - 34s 4ms/step - loss: 0.0467 - val_loss: 0.0340\n",
      "Epoch 2/30\n",
      "7748/7748 [==============================] - 33s 4ms/step - loss: 0.0374 - val_loss: 0.0328\n",
      "Epoch 3/30\n",
      "7748/7748 [==============================] - 33s 4ms/step - loss: 0.0353 - val_loss: 0.0302\n",
      "Epoch 4/30\n",
      "7748/7748 [==============================] - 33s 4ms/step - loss: 0.0336 - val_loss: 0.0299\n",
      "Epoch 5/30\n",
      "7748/7748 [==============================] - 33s 4ms/step - loss: 0.0326 - val_loss: 0.0291\n",
      "Epoch 6/30\n",
      "7748/7748 [==============================] - 33s 4ms/step - loss: 0.0317 - val_loss: 0.0286\n",
      "Epoch 7/30\n",
      "7748/7748 [==============================] - 34s 4ms/step - loss: 0.0307 - val_loss: 0.0278\n",
      "Epoch 8/30\n",
      "7748/7748 [==============================] - 33s 4ms/step - loss: 0.0296 - val_loss: 0.0280\n",
      "Epoch 9/30\n",
      "7748/7748 [==============================] - 32s 4ms/step - loss: 0.0287 - val_loss: 0.0274\n",
      "Epoch 10/30\n",
      "7748/7748 [==============================] - 34s 4ms/step - loss: 0.0277 - val_loss: 0.0273\n",
      "Epoch 11/30\n",
      "7748/7748 [==============================] - 35s 5ms/step - loss: 0.0263 - val_loss: 0.0269\n",
      "Epoch 12/30\n",
      "7748/7748 [==============================] - 35s 5ms/step - loss: 0.0257 - val_loss: 0.0262\n",
      "Epoch 13/30\n",
      "7748/7748 [==============================] - 34s 4ms/step - loss: 0.0241 - val_loss: 0.0261\n",
      "Epoch 14/30\n",
      "7748/7748 [==============================] - 36s 5ms/step - loss: 0.0232 - val_loss: 0.0262\n",
      "Epoch 15/30\n",
      "7748/7748 [==============================] - 42s 5ms/step - loss: 0.0226 - val_loss: 0.0258\n",
      "Epoch 16/30\n",
      "7748/7748 [==============================] - 36s 5ms/step - loss: 0.0216 - val_loss: 0.0266\n",
      "Epoch 17/30\n",
      "7748/7748 [==============================] - 35s 4ms/step - loss: 0.0204 - val_loss: 0.0263\n",
      "Epoch 18/30\n",
      "7748/7748 [==============================] - 34s 4ms/step - loss: 0.0194 - val_loss: 0.0260\n",
      "Epoch 19/30\n",
      "7748/7748 [==============================] - 35s 5ms/step - loss: 0.0186 - val_loss: 0.0263\n",
      "Epoch 20/30\n",
      "7748/7748 [==============================] - 34s 4ms/step - loss: 0.0175 - val_loss: 0.0266\n",
      "Epoch 21/30\n",
      "7748/7748 [==============================] - 35s 4ms/step - loss: 0.0168 - val_loss: 0.0256\n",
      "Epoch 22/30\n",
      "7748/7748 [==============================] - 36s 5ms/step - loss: 0.0160 - val_loss: 0.0255\n",
      "Epoch 23/30\n",
      "7748/7748 [==============================] - 36s 5ms/step - loss: 0.0148 - val_loss: 0.0254\n",
      "Epoch 24/30\n",
      "7748/7748 [==============================] - 34s 4ms/step - loss: 0.0141 - val_loss: 0.0248\n",
      "Epoch 25/30\n",
      "7748/7748 [==============================] - 34s 4ms/step - loss: 0.0137 - val_loss: 0.0265\n",
      "Epoch 26/30\n",
      "7748/7748 [==============================] - 33s 4ms/step - loss: 0.0125 - val_loss: 0.0251\n",
      "Epoch 27/30\n",
      "7748/7748 [==============================] - 34s 4ms/step - loss: 0.0123 - val_loss: 0.0256\n",
      "Epoch 28/30\n",
      "7748/7748 [==============================] - 35s 4ms/step - loss: 0.0120 - val_loss: 0.0243\n",
      "Epoch 29/30\n",
      "7748/7748 [==============================] - 34s 4ms/step - loss: 0.0108 - val_loss: 0.0258\n",
      "Epoch 30/30\n",
      "7748/7748 [==============================] - 33s 4ms/step - loss: 0.0106 - val_loss: 0.0245\n"
     ]
    },
    {
     "data": {
      "text/plain": [
       "<keras.callbacks.History at 0x7f2517f112e8>"
      ]
     },
     "execution_count": 6,
     "metadata": {},
     "output_type": "execute_result"
    }
   ],
   "source": [
    "model.fit(xtrain,ytrain,batch_size=30,epochs=30,validation_data=[xtest,ytest],callbacks=[checkpoint],shuffle=True)"
   ]
  }
 ],
 "metadata": {
  "kernelspec": {
   "display_name": "Python 3",
   "language": "python",
   "name": "python3"
  },
  "language_info": {
   "codemirror_mode": {
    "name": "ipython",
    "version": 3
   },
   "file_extension": ".py",
   "mimetype": "text/x-python",
   "name": "python",
   "nbconvert_exporter": "python",
   "pygments_lexer": "ipython3",
   "version": "3.6.5"
  }
 },
 "nbformat": 4,
 "nbformat_minor": 2
}
