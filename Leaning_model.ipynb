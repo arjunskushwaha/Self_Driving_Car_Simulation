{
 "cells": [
  {
   "cell_type": "code",
   "execution_count": 7,
   "metadata": {},
   "outputs": [],
   "source": [
    "import numpy as np\n",
    "from keras.layers import Convolution2D,Dropout,Flatten,Dense\n",
    "from keras.models import Sequential,save_model\n",
    "from keras.optimizers import Adam\n",
    "from keras.callbacks import ModelCheckpoint\n",
    "from sklearn.model_selection import train_test_split\n",
    "from Data_Preparation_And_Preprocessing import load_data,INPUT_IMG_SHAPE"
   ]
  },
  {
   "cell_type": "code",
   "execution_count": 8,
   "metadata": {},
   "outputs": [],
   "source": [
    "PathToCSV ='/media/arjun/DATA/coding_blocks/perceptron/MachineLearning/Exps/Behavioral_cloning/Data_track_1/driving_log.csv'\n",
    "XData,YData = load_data(PathToCSV)"
   ]
  },
  {
   "cell_type": "code",
   "execution_count": 9,
   "metadata": {},
   "outputs": [],
   "source": [
    "xtrain,xtest,ytrain,ytest = train_test_split(XData, YData, test_size = 0.2)\n",
    "\n",
    "##Normalizing data    \n",
    "xtrain = xtrain/255.0\n",
    "xtest = xtest/255.0"
   ]
  },
  {
   "cell_type": "code",
   "execution_count": 10,
   "metadata": {},
   "outputs": [
    {
     "name": "stdout",
     "output_type": "stream",
     "text": [
      "_________________________________________________________________\n",
      "Layer (type)                 Output Shape              Param #   \n",
      "=================================================================\n",
      "conv2d_6 (Conv2D)            (None, 37, 139, 24)       672       \n",
      "_________________________________________________________________\n",
      "conv2d_7 (Conv2D)            (None, 18, 69, 36)        7812      \n",
      "_________________________________________________________________\n",
      "conv2d_8 (Conv2D)            (None, 8, 34, 48)         15600     \n",
      "_________________________________________________________________\n",
      "conv2d_9 (Conv2D)            (None, 6, 32, 64)         27712     \n",
      "_________________________________________________________________\n",
      "conv2d_10 (Conv2D)           (None, 4, 30, 64)         36928     \n",
      "_________________________________________________________________\n",
      "dropout_2 (Dropout)          (None, 4, 30, 64)         0         \n",
      "_________________________________________________________________\n",
      "flatten_2 (Flatten)          (None, 7680)              0         \n",
      "_________________________________________________________________\n",
      "dense_5 (Dense)              (None, 100)               768100    \n",
      "_________________________________________________________________\n",
      "dense_6 (Dense)              (None, 50)                5050      \n",
      "_________________________________________________________________\n",
      "dense_7 (Dense)              (None, 10)                510       \n",
      "_________________________________________________________________\n",
      "dense_8 (Dense)              (None, 1)                 11        \n",
      "=================================================================\n",
      "Total params: 862,395\n",
      "Trainable params: 862,395\n",
      "Non-trainable params: 0\n",
      "_________________________________________________________________\n"
     ]
    }
   ],
   "source": [
    "model = Sequential()\n",
    "model.add(Convolution2D(24, activation='relu', kernel_size=(3, 3), strides=(2,2),input_shape=INPUT_IMG_SHAPE))\n",
    "model.add(Convolution2D(36, activation='relu', kernel_size=(3, 3), strides=(2,2)))\n",
    "model.add(Convolution2D(48, activation='relu', kernel_size=(3, 3), strides=(2,2)))\n",
    "model.add(Convolution2D(64, activation='relu', kernel_size=(3, 3)))\n",
    "model.add(Convolution2D(64, activation='relu', kernel_size=(3, 3)))\n",
    "model.add(Dropout(0.5))\n",
    "model.add(Flatten())\n",
    "model.add(Dense(100, activation='relu'))\n",
    "model.add(Dense(50, activation='relu'))\n",
    "model.add(Dense(10, activation='relu'))\n",
    "model.add(Dense(1))\n",
    "model.summary()"
   ]
  },
  {
   "cell_type": "code",
   "execution_count": 11,
   "metadata": {},
   "outputs": [],
   "source": [
    "checkpoint = ModelCheckpoint('model-{val_loss:.4f}.h5',\n",
    "                                 monitor='val_loss',\n",
    "                                 verbose=0,\n",
    "                                 save_best_only=True,\n",
    "                                 mode='auto')\n",
    "model.compile(loss='mean_squared_error', optimizer=Adam(lr=1.0e-4))"
   ]
  },
  {
   "cell_type": "code",
   "execution_count": 12,
   "metadata": {},
   "outputs": [
    {
     "name": "stdout",
     "output_type": "stream",
     "text": [
      "Train on 3874 samples, validate on 969 samples\n",
      "Epoch 1/30\n",
      "3874/3874 [==============================] - 18s 5ms/step - loss: 0.0485 - val_loss: 0.0405\n",
      "Epoch 2/30\n",
      "3874/3874 [==============================] - 17s 4ms/step - loss: 0.0400 - val_loss: 0.0375\n",
      "Epoch 3/30\n",
      "3874/3874 [==============================] - 17s 4ms/step - loss: 0.0379 - val_loss: 0.0362\n",
      "Epoch 4/30\n",
      "3874/3874 [==============================] - 17s 4ms/step - loss: 0.0364 - val_loss: 0.0360\n",
      "Epoch 5/30\n",
      "3874/3874 [==============================] - 17s 4ms/step - loss: 0.0349 - val_loss: 0.0350\n",
      "Epoch 6/30\n",
      "3874/3874 [==============================] - 17s 4ms/step - loss: 0.0336 - val_loss: 0.0343\n",
      "Epoch 7/30\n",
      "3874/3874 [==============================] - 17s 4ms/step - loss: 0.0323 - val_loss: 0.0342\n",
      "Epoch 8/30\n",
      "3874/3874 [==============================] - 17s 4ms/step - loss: 0.0316 - val_loss: 0.0340\n",
      "Epoch 9/30\n",
      "3874/3874 [==============================] - 17s 4ms/step - loss: 0.0299 - val_loss: 0.0332\n",
      "Epoch 10/30\n",
      "3874/3874 [==============================] - 17s 4ms/step - loss: 0.0290 - val_loss: 0.0339\n",
      "Epoch 11/30\n",
      "3874/3874 [==============================] - 17s 4ms/step - loss: 0.0279 - val_loss: 0.0327\n",
      "Epoch 12/30\n",
      "3874/3874 [==============================] - 17s 4ms/step - loss: 0.0268 - val_loss: 0.0326\n",
      "Epoch 13/30\n",
      "3874/3874 [==============================] - 17s 4ms/step - loss: 0.0253 - val_loss: 0.0324\n",
      "Epoch 14/30\n",
      "3874/3874 [==============================] - 17s 4ms/step - loss: 0.0239 - val_loss: 0.0334\n",
      "Epoch 15/30\n",
      "3874/3874 [==============================] - 17s 4ms/step - loss: 0.0231 - val_loss: 0.0326\n",
      "Epoch 16/30\n",
      "3874/3874 [==============================] - 17s 4ms/step - loss: 0.0224 - val_loss: 0.0347\n",
      "Epoch 17/30\n",
      "3874/3874 [==============================] - 17s 4ms/step - loss: 0.0207 - val_loss: 0.0329\n",
      "Epoch 18/30\n",
      "3874/3874 [==============================] - 18s 5ms/step - loss: 0.0196 - val_loss: 0.0327\n",
      "Epoch 19/30\n",
      "3874/3874 [==============================] - 17s 4ms/step - loss: 0.0181 - val_loss: 0.0341\n",
      "Epoch 20/30\n",
      "3874/3874 [==============================] - 17s 4ms/step - loss: 0.0176 - val_loss: 0.0337\n",
      "Epoch 21/30\n",
      "3874/3874 [==============================] - 17s 4ms/step - loss: 0.0163 - val_loss: 0.0329\n",
      "Epoch 22/30\n",
      "3874/3874 [==============================] - 18s 5ms/step - loss: 0.0154 - val_loss: 0.0352\n",
      "Epoch 23/30\n",
      "3874/3874 [==============================] - 17s 4ms/step - loss: 0.0150 - val_loss: 0.0356\n",
      "Epoch 24/30\n",
      "3874/3874 [==============================] - 17s 4ms/step - loss: 0.0136 - val_loss: 0.0334\n",
      "Epoch 25/30\n",
      "3874/3874 [==============================] - 17s 4ms/step - loss: 0.0135 - val_loss: 0.0347\n",
      "Epoch 26/30\n",
      "3874/3874 [==============================] - 17s 4ms/step - loss: 0.0121 - val_loss: 0.0346\n",
      "Epoch 27/30\n",
      "3874/3874 [==============================] - 17s 4ms/step - loss: 0.0122 - val_loss: 0.0347\n",
      "Epoch 28/30\n",
      "3874/3874 [==============================] - 18s 5ms/step - loss: 0.0111 - val_loss: 0.0335\n",
      "Epoch 29/30\n",
      "3874/3874 [==============================] - 20s 5ms/step - loss: 0.0104 - val_loss: 0.0344\n",
      "Epoch 30/30\n",
      "3874/3874 [==============================] - 18s 5ms/step - loss: 0.0096 - val_loss: 0.0333\n"
     ]
    },
    {
     "data": {
      "text/plain": [
       "<keras.callbacks.History at 0x7f31586a00b8>"
      ]
     },
     "execution_count": 12,
     "metadata": {},
     "output_type": "execute_result"
    }
   ],
   "source": [
    "model.fit(xtrain,ytrain,batch_size=30,epochs=30,validation_data=[xtest,ytest],callbacks=[checkpoint],shuffle=True)"
   ]
  },
  {
   "cell_type": "code",
   "execution_count": null,
   "metadata": {},
   "outputs": [],
   "source": []
  }
 ],
 "metadata": {
  "kernelspec": {
   "display_name": "Python 3",
   "language": "python",
   "name": "python3"
  },
  "language_info": {
   "codemirror_mode": {
    "name": "ipython",
    "version": 3
   },
   "file_extension": ".py",
   "mimetype": "text/x-python",
   "name": "python",
   "nbconvert_exporter": "python",
   "pygments_lexer": "ipython3",
   "version": "3.6.5"
  }
 },
 "nbformat": 4,
 "nbformat_minor": 2
}
